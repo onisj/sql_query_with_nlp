{
 "cells": [
  {
   "cell_type": "markdown",
   "id": "65f9c281-6171-4950-9891-ab181c1fcb3d",
   "metadata": {},
   "source": [
    "# **Connecting to MySQL Server**"
   ]
  },
  {
   "cell_type": "code",
   "execution_count": 1,
   "id": "35a8a715-8b5b-4091-8e89-d3aab303ebdc",
   "metadata": {},
   "outputs": [],
   "source": [
    "import mysql.connector\n",
    "from mysql.connector import Error\n",
    "import os\n"
   ]
  },
  {
   "cell_type": "code",
   "execution_count": 2,
   "id": "4bee5788-3756-4aa6-b922-8aa8d279d543",
   "metadata": {},
   "outputs": [
    {
     "name": "stdout",
     "output_type": "stream",
     "text": [
      "Error while connecting to MySQL 2005 (HY000): Unknown MySQL server host 'db' (-2)\n"
     ]
    }
   ],
   "source": [
    "# Connect to MySQL server\n",
    "try:\n",
    "    connection = mysql.connector.connect(\n",
    "        host='db',\n",
    "        user='root',\n",
    "        password='root'  # Use your MySQL root password\n",
    "    )\n",
    "    if connection.is_connected():\n",
    "        print(\"Successfully connected to MySQL server\")\n",
    "        cursor = connection.cursor()\n",
    "        cursor.execute(\"SHOW DATABASES;\")\n",
    "        databases = cursor.fetchall()\n",
    "        print(\"Databases:\", databases)\n",
    "except Error as e:\n",
    "    print(\"Error while connecting to MySQL\", e)"
   ]
  },
  {
   "cell_type": "code",
   "execution_count": 5,
   "id": "24b36eb1",
   "metadata": {},
   "outputs": [
    {
     "name": "stdout",
     "output_type": "stream",
     "text": [
      "Error while connecting to MySQL 2003 (HY000): Can't connect to MySQL server on 'localhost:3306' (111)\n"
     ]
    },
    {
     "name": "stderr",
     "output_type": "stream",
     "text": [
      "--2024-07-08 18:16:53--  https://cf-courses-data.s3.us.cloud-object-storage.appdomain.cloud/Mauh_UvY4eK2SkcHj_b8Tw/chinook-mysql.sql\n",
      "Resolving cf-courses-data.s3.us.cloud-object-storage.appdomain.cloud (cf-courses-data.s3.us.cloud-object-storage.appdomain.cloud)... 169.63.118.104\n",
      "Connecting to cf-courses-data.s3.us.cloud-object-storage.appdomain.cloud (cf-courses-data.s3.us.cloud-object-storage.appdomain.cloud)|169.63.118.104|:443... connected.\n",
      "HTTP request sent, awaiting response... 200 OK\n",
      "Length: 616450 (602K) [application/x-sql]\n",
      "Saving to: ‘chinook-mysql.sql’\n",
      "\n",
      "     0K .......... .......... .......... .......... ..........  8%  452K 1s\n",
      "    50K .......... .......... .......... .......... .......... 16% 1020K 1s\n",
      "   100K .......... .......... .......... .......... .......... 24% 1.01M 1s\n",
      "   150K .......... .......... .......... .......... .......... 33% 1.75M 0s\n",
      "   200K .......... .......... .......... .......... .......... 41% 1.51M 0s\n",
      "   250K .......... .......... .......... .......... .......... 49% 3.75M 0s\n",
      "   300K .......... .......... .......... .......... .......... 58% 3.06M 0s\n",
      "   350K .......... .......... .......... .......... .......... 66% 3.77M 0s\n",
      "   400K .......... .......... .......... .......... .......... 74% 6.64M 0s\n",
      "   450K .......... .......... .......... .......... .......... 83% 2.40M 0s\n",
      "   500K .......... .......... .......... .......... .......... 91% 5.75M 0s\n",
      "   550K .......... .......... .......... .......... .......... 99% 5.66M 0s\n",
      "   600K ..                                                    100% 3818G=0.4s\n",
      "\n",
      "2024-07-08 18:16:54 (1.66 MB/s) - ‘chinook-mysql.sql’ saved [616450/616450]\n",
      "\n"
     ]
    },
    {
     "ename": "NameError",
     "evalue": "name 'cursor' is not defined",
     "output_type": "error",
     "traceback": [
      "\u001b[0;31m---------------------------------------------------------------------------\u001b[0m",
      "\u001b[0;31mNameError\u001b[0m                                 Traceback (most recent call last)",
      "Cell \u001b[0;32mIn[5], line 32\u001b[0m\n\u001b[1;32m     30\u001b[0m \u001b[38;5;28;01mfor\u001b[39;00m statement \u001b[38;5;129;01min\u001b[39;00m sql_script\u001b[38;5;241m.\u001b[39msplit(\u001b[38;5;124m'\u001b[39m\u001b[38;5;124m;\u001b[39m\u001b[38;5;124m'\u001b[39m):\n\u001b[1;32m     31\u001b[0m     \u001b[38;5;28;01mif\u001b[39;00m statement\u001b[38;5;241m.\u001b[39mstrip():\n\u001b[0;32m---> 32\u001b[0m         \u001b[43mcursor\u001b[49m\u001b[38;5;241m.\u001b[39mexecute(statement)\n\u001b[1;32m     33\u001b[0m connection\u001b[38;5;241m.\u001b[39mcommit()\n\u001b[1;32m     34\u001b[0m \u001b[38;5;28mprint\u001b[39m(\u001b[38;5;124m\"\u001b[39m\u001b[38;5;124mChinook database created successfully\u001b[39m\u001b[38;5;124m\"\u001b[39m)\n",
      "\u001b[0;31mNameError\u001b[0m: name 'cursor' is not defined"
     ]
    }
   ],
   "source": [
    "# Download the SQL file\n",
    "sql_url = 'https://cf-courses-data.s3.us.cloud-object-storage.appdomain.cloud/Mauh_UvY4eK2SkcHj_b8Tw/chinook-mysql.sql'\n",
    "sql_file = 'init.sql'\n",
    "os.system(f\"wget {sql_url} -O {sql_file}\")\n"
   ]
  },
  {
   "cell_type": "code",
   "execution_count": null,
   "id": "50e6807a",
   "metadata": {},
   "outputs": [],
   "source": [
    "# Execute the SQL file\n",
    "try:\n",
    "    with open(sql_file, 'r') as file:\n",
    "        sql_script = file.read()\n",
    "    for statement in sql_script.split(';'):\n",
    "        if statement.strip():\n",
    "            cursor.execute(statement)\n",
    "    connection.commit()\n",
    "    print(\"Chinook database created successfully\")\n",
    "except Error as e:\n",
    "    print(\"Error while executing SQL script\", e)\n",
    "\n"
   ]
  },
  {
   "cell_type": "code",
   "execution_count": null,
   "id": "0ffe6399",
   "metadata": {},
   "outputs": [],
   "source": [
    "# Verify database creation\n",
    "try:\n",
    "    cursor.execute(\"SHOW DATABASES;\")\n",
    "    databases = cursor.fetchall()\n",
    "    print(\"Databases:\", databases)\n",
    "except Error as e:\n",
    "    print(\"Error while fetching databases\", e)\n",
    "\n"
   ]
  },
  {
   "cell_type": "code",
   "execution_count": null,
   "id": "198e949b",
   "metadata": {},
   "outputs": [],
   "source": [
    "# Run sample queries\n",
    "try:\n",
    "    cursor.execute(\"USE Chinook;\")\n",
    "    cursor.execute(\"SELECT COUNT(*) FROM Album;\")\n",
    "    result = cursor.fetchone()\n",
    "    print(\"Number of albums in the Chinook database:\", result[0])\n",
    "except Error as e:\n",
    "    print(\"Error while running SQL commands\", e)"
   ]
  }
 ],
 "metadata": {
  "kernelspec": {
   "display_name": "Python 3 (ipykernel)",
   "language": "python",
   "name": "python3"
  },
  "language_info": {
   "codemirror_mode": {
    "name": "ipython",
    "version": 3
   },
   "file_extension": ".py",
   "mimetype": "text/x-python",
   "name": "python",
   "nbconvert_exporter": "python",
   "pygments_lexer": "ipython3",
   "version": "3.10.13"
  }
 },
 "nbformat": 4,
 "nbformat_minor": 5
}
